{
 "cells": [
  {
   "cell_type": "code",
   "execution_count": 36,
   "metadata": {},
   "outputs": [
    {
     "name": "stdout",
     "output_type": "stream",
     "text": [
      "          STNAME  POPESTIMATE2011  POPESTIMATE2012  POPESTIMATE2013  \\\n",
      "190   California         37672654         38019006         38347383   \n",
      "2566       Texas         25644424         26078327         26479279   \n",
      "329      Florida         19097369         19341327         19584927   \n",
      "1860    New York         19526372         19625409         19712514   \n",
      "608     Illinois         12862298         12878494         12890403   \n",
      "\n",
      "      POPESTIMATE2014  \n",
      "190          38701278  \n",
      "2566         26954436  \n",
      "329          19897747  \n",
      "1860         19773580  \n",
      "608          12882438  \n"
     ]
    }
   ],
   "source": [
    "import numpy as np\n",
    "import pandas as pd\n",
    "import matplotlib.pyplot as plt\n",
    "# %matplotlib inline\n",
    "from urllib.request import urlopen\n",
    "pop2014 = pd.read_csv('co-est2017-alldata.csv', encoding='latin-1',dtype={'STATE': 'str', 'COUNTY': 'str'})\n",
    "pop2014_by_state = pop2014[pop2014.SUMLEV == 40]\n",
    "states = pop2014_by_state[['STNAME','POPESTIMATE2011','POPESTIMATE2012','POPESTIMATE2013','POPESTIMATE2014']]\n",
    "print(states.sort_values('POPESTIMATE2014', ascending=False)[:5])"
   ]
  },
  {
   "cell_type": "code",
   "execution_count": 49,
   "metadata": {},
   "outputs": [
    {
     "name": "stdout",
     "output_type": "stream",
     "text": [
      "          STNAME  POPESTIMATE2011  POPESTIMATE2012  POPESTIMATE2013  \\\n",
      "190   California         37672654         38019006         38347383   \n",
      "2566       Texas         25644424         26078327         26479279   \n",
      "329      Florida         19097369         19341327         19584927   \n",
      "1860    New York         19526372         19625409         19712514   \n",
      "608     Illinois         12862298         12878494         12890403   \n",
      "\n",
      "      POPESTIMATE2014  \n",
      "190          38701278  \n",
      "2566         26954436  \n",
      "329          19897747  \n",
      "1860         19773580  \n",
      "608          12882438  \n"
     ]
    }
   ],
   "source": [
    "s = states.sort_values('POPESTIMATE2014', ascending=False)[:5]\n",
    "print(s)"
   ]
  },
  {
   "cell_type": "code",
   "execution_count": 51,
   "metadata": {},
   "outputs": [
    {
     "data": {
      "application/javascript": [
       "require.config({paths:{d3: '//cdnjs.cloudflare.com/ajax/libs/d3/3.5.5/d3.min'}})\n"
      ],
      "text/plain": [
       "<IPython.core.display.Javascript object>"
      ]
     },
     "metadata": {},
     "output_type": "display_data"
    }
   ],
   "source": [
    "%%javascript \n",
    "require.config({paths:{d3: '//cdnjs.cloudflare.com/ajax/libs/d3/3.5.5/d3.min'}})"
   ]
  },
  {
   "cell_type": "code",
   "execution_count": 54,
   "metadata": {},
   "outputs": [
    {
     "data": {
      "text/html": [
       "\n",
       "<style>\n",
       ".bar {\n",
       "fill: steelblue;\n",
       "}\n",
       ".bar:hover{\n",
       "fill: brown;\n",
       "}\n",
       ".axis {\n",
       "font: 10px sans-serif;\n",
       "}\n",
       ".axis path,\n",
       ".axis line {\n",
       "fill: none;\n",
       "stroke: #000;\n",
       "}\n",
       ".x.axis path {\n",
       "display: none;\n",
       "}\n",
       "</style>\n",
       "<div id=\"chart_d3\" />\n"
      ],
      "text/plain": [
       "<IPython.core.display.HTML object>"
      ]
     },
     "metadata": {},
     "output_type": "display_data"
    }
   ],
   "source": [
    "from IPython.core.display import display, Javascript, HTML\n",
    "import jinja2\n",
    "display(HTML(\"\"\"\n",
    "<style>\n",
    ".bar {\n",
    "fill: steelblue;\n",
    "}\n",
    ".bar:hover{\n",
    "fill: brown;\n",
    "}\n",
    ".axis {\n",
    "font: 10px sans-serif;\n",
    "}\n",
    ".axis path,\n",
    ".axis line {\n",
    "fill: none;\n",
    "stroke: #000;\n",
    "}\n",
    ".x.axis path {\n",
    "display: none;\n",
    "}\n",
    "</style>\n",
    "<div id=\"chart_d3\" />\n",
    "\"\"\"))"
   ]
  }
 ],
 "metadata": {
  "kernelspec": {
   "display_name": "Python 3",
   "language": "python",
   "name": "python3"
  },
  "language_info": {
   "codemirror_mode": {
    "name": "ipython",
    "version": 3
   },
   "file_extension": ".py",
   "mimetype": "text/x-python",
   "name": "python",
   "nbconvert_exporter": "python",
   "pygments_lexer": "ipython3",
   "version": "3.7.6"
  }
 },
 "nbformat": 4,
 "nbformat_minor": 4
}
